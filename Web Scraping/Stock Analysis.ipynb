{
 "cells": [
  {
   "cell_type": "code",
   "execution_count": 16,
   "metadata": {},
   "outputs": [],
   "source": [
    "from pandas_datareader import data\n",
    "import datetime\n",
    "from bokeh.plotting import figure, show, output_file"
   ]
  },
  {
   "cell_type": "code",
   "execution_count": 6,
   "metadata": {
    "collapsed": true
   },
   "outputs": [],
   "source": [
    "data.DataReader?"
   ]
  },
  {
   "cell_type": "code",
   "execution_count": 10,
   "metadata": {},
   "outputs": [
    {
     "data": {
      "text/plain": [
       "pandas.core.frame.DataFrame"
      ]
     },
     "execution_count": 10,
     "metadata": {},
     "output_type": "execute_result"
    }
   ],
   "source": [
    "start=datetime.datetime(2016,3,1)\n",
    "end=datetime.datetime(2016,3,10)\n",
    "\n",
    "type(data.DataReader(name='AAPL',data_source='yahoo',start=start,end=end)) # Stock symbol for Apple"
   ]
  },
  {
   "cell_type": "code",
   "execution_count": 13,
   "metadata": {
    "collapsed": true
   },
   "outputs": [],
   "source": [
    "df=data.DataReader(name='GOOG',data_source='yahoo',start=start,end=end)"
   ]
  },
  {
   "cell_type": "code",
   "execution_count": 14,
   "metadata": {},
   "outputs": [
    {
     "data": {
      "text/html": [
       "<div>\n",
       "<style scoped>\n",
       "    .dataframe tbody tr th:only-of-type {\n",
       "        vertical-align: middle;\n",
       "    }\n",
       "\n",
       "    .dataframe tbody tr th {\n",
       "        vertical-align: top;\n",
       "    }\n",
       "\n",
       "    .dataframe thead th {\n",
       "        text-align: right;\n",
       "    }\n",
       "</style>\n",
       "<table border=\"1\" class=\"dataframe\">\n",
       "  <thead>\n",
       "    <tr style=\"text-align: right;\">\n",
       "      <th></th>\n",
       "      <th>Open</th>\n",
       "      <th>High</th>\n",
       "      <th>Low</th>\n",
       "      <th>Close</th>\n",
       "      <th>Adj Close</th>\n",
       "      <th>Volume</th>\n",
       "    </tr>\n",
       "    <tr>\n",
       "      <th>Date</th>\n",
       "      <th></th>\n",
       "      <th></th>\n",
       "      <th></th>\n",
       "      <th></th>\n",
       "      <th></th>\n",
       "      <th></th>\n",
       "    </tr>\n",
       "  </thead>\n",
       "  <tbody>\n",
       "    <tr>\n",
       "      <th>2016-03-01</th>\n",
       "      <td>703.619995</td>\n",
       "      <td>718.809998</td>\n",
       "      <td>699.770020</td>\n",
       "      <td>718.809998</td>\n",
       "      <td>718.809998</td>\n",
       "      <td>2151400</td>\n",
       "    </tr>\n",
       "    <tr>\n",
       "      <th>2016-03-02</th>\n",
       "      <td>719.000000</td>\n",
       "      <td>720.000000</td>\n",
       "      <td>712.000000</td>\n",
       "      <td>718.849976</td>\n",
       "      <td>718.849976</td>\n",
       "      <td>1629000</td>\n",
       "    </tr>\n",
       "    <tr>\n",
       "      <th>2016-03-03</th>\n",
       "      <td>718.679993</td>\n",
       "      <td>719.450012</td>\n",
       "      <td>706.020020</td>\n",
       "      <td>712.419983</td>\n",
       "      <td>712.419983</td>\n",
       "      <td>1956800</td>\n",
       "    </tr>\n",
       "    <tr>\n",
       "      <th>2016-03-04</th>\n",
       "      <td>714.989990</td>\n",
       "      <td>716.489990</td>\n",
       "      <td>706.020020</td>\n",
       "      <td>710.890015</td>\n",
       "      <td>710.890015</td>\n",
       "      <td>1972100</td>\n",
       "    </tr>\n",
       "    <tr>\n",
       "      <th>2016-03-07</th>\n",
       "      <td>706.900024</td>\n",
       "      <td>708.091003</td>\n",
       "      <td>686.900024</td>\n",
       "      <td>695.159973</td>\n",
       "      <td>695.159973</td>\n",
       "      <td>2985100</td>\n",
       "    </tr>\n",
       "    <tr>\n",
       "      <th>2016-03-08</th>\n",
       "      <td>688.590027</td>\n",
       "      <td>703.789978</td>\n",
       "      <td>685.340027</td>\n",
       "      <td>693.969971</td>\n",
       "      <td>693.969971</td>\n",
       "      <td>2076300</td>\n",
       "    </tr>\n",
       "    <tr>\n",
       "      <th>2016-03-09</th>\n",
       "      <td>698.469971</td>\n",
       "      <td>705.679993</td>\n",
       "      <td>694.000000</td>\n",
       "      <td>705.239990</td>\n",
       "      <td>705.239990</td>\n",
       "      <td>1421500</td>\n",
       "    </tr>\n",
       "    <tr>\n",
       "      <th>2016-03-10</th>\n",
       "      <td>708.119995</td>\n",
       "      <td>716.440002</td>\n",
       "      <td>703.359985</td>\n",
       "      <td>712.820007</td>\n",
       "      <td>712.820007</td>\n",
       "      <td>2829400</td>\n",
       "    </tr>\n",
       "  </tbody>\n",
       "</table>\n",
       "</div>"
      ],
      "text/plain": [
       "                  Open        High         Low       Close   Adj Close  \\\n",
       "Date                                                                     \n",
       "2016-03-01  703.619995  718.809998  699.770020  718.809998  718.809998   \n",
       "2016-03-02  719.000000  720.000000  712.000000  718.849976  718.849976   \n",
       "2016-03-03  718.679993  719.450012  706.020020  712.419983  712.419983   \n",
       "2016-03-04  714.989990  716.489990  706.020020  710.890015  710.890015   \n",
       "2016-03-07  706.900024  708.091003  686.900024  695.159973  695.159973   \n",
       "2016-03-08  688.590027  703.789978  685.340027  693.969971  693.969971   \n",
       "2016-03-09  698.469971  705.679993  694.000000  705.239990  705.239990   \n",
       "2016-03-10  708.119995  716.440002  703.359985  712.820007  712.820007   \n",
       "\n",
       "             Volume  \n",
       "Date                 \n",
       "2016-03-01  2151400  \n",
       "2016-03-02  1629000  \n",
       "2016-03-03  1956800  \n",
       "2016-03-04  1972100  \n",
       "2016-03-07  2985100  \n",
       "2016-03-08  2076300  \n",
       "2016-03-09  1421500  \n",
       "2016-03-10  2829400  "
      ]
     },
     "execution_count": 14,
     "metadata": {},
     "output_type": "execute_result"
    }
   ],
   "source": [
    "df"
   ]
  },
  {
   "cell_type": "code",
   "execution_count": 17,
   "metadata": {
    "collapsed": true
   },
   "outputs": [],
   "source": [
    "p=figure(x_axis_type='datetime', width=1000, height=300)\n",
    "p.title.text=\"Candlestick Chart\""
   ]
  },
  {
   "cell_type": "code",
   "execution_count": null,
   "metadata": {
    "collapsed": true
   },
   "outputs": [],
   "source": [
    "# Incomplete"
   ]
  }
 ],
 "metadata": {
  "kernelspec": {
   "display_name": "Python 3",
   "language": "python",
   "name": "python3"
  },
  "language_info": {
   "codemirror_mode": {
    "name": "ipython",
    "version": 3
   },
   "file_extension": ".py",
   "mimetype": "text/x-python",
   "name": "python",
   "nbconvert_exporter": "python",
   "pygments_lexer": "ipython3",
   "version": "3.6.3"
  }
 },
 "nbformat": 4,
 "nbformat_minor": 2
}
