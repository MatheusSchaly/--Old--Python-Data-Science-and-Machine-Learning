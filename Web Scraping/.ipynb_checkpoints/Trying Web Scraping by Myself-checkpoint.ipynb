{
 "cells": [
  {
   "cell_type": "code",
   "execution_count": 498,
   "metadata": {
    "collapsed": true
   },
   "outputs": [],
   "source": [
    "# Trying to scrap data from Steam RPG games\n",
    "\n",
    "import requests, re\n",
    "from bs4 import BeautifulSoup\n",
    "import json"
   ]
  },
  {
   "cell_type": "code",
   "execution_count": 499,
   "metadata": {
    "scrolled": true
   },
   "outputs": [],
   "source": [
    "# https://stackoverflow.com/questions/41982475/scraper-in-python-gives-access-denied\n",
    "# Modified to enable the access that I need\n",
    "\n",
    "def extract_source(url):\n",
    "    headers = {'User-Agent': 'Mozilla/5.0 (Windows NT 6.1; WOW64; rv:50.0) Gecko/20100101 Firefox/50.0'}\n",
    "    source=requests.get(url, headers=headers)\n",
    "    return source\n",
    "\n",
    "r=extract_source('http://store.steampowered.com/tags/en-us/RPG/')"
   ]
  },
  {
   "cell_type": "code",
   "execution_count": 500,
   "metadata": {},
   "outputs": [],
   "source": [
    "c=r.content # Extracts the content of the source"
   ]
  },
  {
   "cell_type": "code",
   "execution_count": 501,
   "metadata": {},
   "outputs": [],
   "source": [
    "# c"
   ]
  },
  {
   "cell_type": "code",
   "execution_count": 502,
   "metadata": {
    "collapsed": true
   },
   "outputs": [],
   "source": [
    "soup=BeautifulSoup(c,'html.parser') # Parses the HTML page"
   ]
  },
  {
   "cell_type": "code",
   "execution_count": 503,
   "metadata": {},
   "outputs": [],
   "source": [
    "# print(soup.prettify())"
   ]
  },
  {
   "cell_type": "code",
   "execution_count": 504,
   "metadata": {},
   "outputs": [],
   "source": [
    "all_games=soup.find_all('div',{'id':'NewReleasesRows'}) # Finds all 'divs' which 'id' is equal to 'NewReleasesRows'"
   ]
  },
  {
   "cell_type": "code",
   "execution_count": 505,
   "metadata": {},
   "outputs": [],
   "source": [
    "# all_games[0].find_all('div',{'class':'tab_item_name'})"
   ]
  },
  {
   "cell_type": "code",
   "execution_count": 506,
   "metadata": {},
   "outputs": [],
   "source": [
    "# len(all_game_name[0].find_all('div',{'class':'tab_item_name'}))"
   ]
  },
  {
   "cell_type": "code",
   "execution_count": 507,
   "metadata": {},
   "outputs": [],
   "source": [
    "# for item in (all_game_name[0].find_all('div',{'class':'tab_item_name'})):\n",
    "#     print(item.text)"
   ]
  },
  {
   "cell_type": "code",
   "execution_count": 508,
   "metadata": {},
   "outputs": [],
   "source": [
    "game_feature_list = []\n",
    "for i in range(0,len(all_games[0].find_all('div',{'class':'tab_item_name'}))):\n",
    "    d={}\n",
    "    d['Name']=all_games[0].find_all('div',{'class':'tab_item_name'})[i].text\n",
    "    d['Final Price']=all_games[0].find_all('div',{'class':'discount_final_price'})[i].text\n",
    "    try:\n",
    "        d['Discount Percentage']=all_games[0].find_all('div',{'class':'discount_pct'})[i].text\n",
    "    except:\n",
    "        d['Discount Percentage']=None\n",
    "    game_tag = [] # A list with game tags RPG Classic...\n",
    "    for j in range(len(all_games[0].find_all('div',{'class':'tab_item_top_tags'})[i])):\n",
    "        game_tag.append(all_games[0].find_all('span',{'class':'top_tag'})[j].text.replace(',',\"\").replace(\" \",\"\"))\n",
    "    d['Tags']=game_tag\n",
    "    game_feature_list.append(d)"
   ]
  },
  {
   "cell_type": "code",
   "execution_count": 497,
   "metadata": {},
   "outputs": [
    {
     "data": {
      "text/plain": [
       "[<div id=\"NewReleasesRows\">\n",
       " <a class=\"tab_item \" data-ds-appid=\"770100\" href=\"http://store.steampowered.com/app/770100/One_Deck_Dungeon/?snr=1_tags_4__103\" onmouseout=\"HideGameHover( this, event, 'global_hover' )\" onmouseover=\"GameHover( this, event, 'global_hover', {&quot;type&quot;:&quot;app&quot;,&quot;id&quot;:770100,&quot;params&quot;:{&quot;bDisableHover&quot;:false},&quot;public&quot;:1,&quot;v6&quot;:1} );\">\n",
       " <div class=\"tab_item_cap\">\n",
       " <img class=\"tab_item_cap_img\" src=\"http://cdn.edgecast.steamstatic.com/steam/apps/770100/capsule_184x69.jpg?t=1519755500\"/>\n",
       " </div>\n",
       " <div class=\"discount_block tab_item_discount no_discount\"> <div class=\"discount_prices\"><div class=\"discount_final_price\">R$ 28,99</div></div></div> <div class=\"tab_item_content\">\n",
       " <div class=\"tab_item_name\">One Deck Dungeon</div>\n",
       " <div class=\"tab_item_details\">\n",
       " <span class=\"platform_img win\"></span><span class=\"platform_img mac\"></span><span class=\"platform_img linux\"></span> <div class=\"tab_item_top_tags\"><span class=\"top_tag\">Early Access</span><span class=\"top_tag\">, Strategy</span><span class=\"top_tag\">, Adventure</span><span class=\"top_tag\">, RPG</span></div>\n",
       " </div>\n",
       " </div>\n",
       " <div style=\"clear: both;\"></div>\n",
       " </a>\n",
       " <a class=\"tab_item \" data-ds-appid=\"613830\" href=\"http://store.steampowered.com/app/613830/CHRONO_TRIGGER/?snr=1_tags_4__103\" onmouseout=\"HideGameHover( this, event, 'global_hover' )\" onmouseover=\"GameHover( this, event, 'global_hover', {&quot;type&quot;:&quot;app&quot;,&quot;id&quot;:613830,&quot;params&quot;:{&quot;bDisableHover&quot;:false},&quot;public&quot;:1,&quot;v6&quot;:1} );\">\n",
       " <div class=\"tab_item_cap\">\n",
       " <img class=\"tab_item_cap_img\" src=\"http://cdn.edgecast.steamstatic.com/steam/apps/613830/capsule_184x69.jpg?t=1519755107\"/>\n",
       " </div>\n",
       " <div class=\"discount_block tab_item_discount no_discount\"> <div class=\"discount_prices\"><div class=\"discount_final_price\">R$ 49,99</div></div></div> <div class=\"tab_item_content\">\n",
       " <div class=\"tab_item_name\">CHRONO TRIGGER®</div>\n",
       " <div class=\"tab_item_details\">\n",
       " <span class=\"platform_img win\"></span> <div class=\"tab_item_top_tags\"><span class=\"top_tag\">RPG</span><span class=\"top_tag\">, JRPG</span><span class=\"top_tag\">, Great Soundtrack</span><span class=\"top_tag\">, Classic</span></div>\n",
       " </div>\n",
       " </div>\n",
       " <div style=\"clear: both;\"></div>\n",
       " </a>\n",
       " <a class=\"tab_item \" data-ds-appid=\"734510\" href=\"http://store.steampowered.com/app/734510/Worshippers/?snr=1_tags_4__103\" onmouseout=\"HideGameHover( this, event, 'global_hover' )\" onmouseover=\"GameHover( this, event, 'global_hover', {&quot;type&quot;:&quot;app&quot;,&quot;id&quot;:734510,&quot;params&quot;:{&quot;bDisableHover&quot;:false},&quot;public&quot;:1,&quot;v6&quot;:1} );\">\n",
       " <div class=\"tab_item_cap\">\n",
       " <img class=\"tab_item_cap_img\" src=\"http://cdn.edgecast.steamstatic.com/steam/apps/734510/capsule_184x69.jpg?t=1519747226\"/>\n",
       " </div>\n",
       " <div class=\"discount_block tab_item_discount\"> <div class=\"discount_pct\">-10%</div><div class=\"discount_prices\"><div class=\"discount_original_price\">R$ 20,69</div><div class=\"discount_final_price\">R$ 18,62</div></div></div> <div class=\"tab_item_content\">\n",
       " <div class=\"tab_item_name\">Worshippers</div>\n",
       " <div class=\"tab_item_details\">\n",
       " <span class=\"platform_img win\"></span> <div class=\"tab_item_top_tags\"><span class=\"top_tag\">RPG</span><span class=\"top_tag\">, Strategy</span><span class=\"top_tag\">, Turn-Based Strategy</span><span class=\"top_tag\">, Board Game</span></div>\n",
       " </div>\n",
       " </div>\n",
       " <div style=\"clear: both;\"></div>\n",
       " </a>\n",
       " <a class=\"tab_item \" data-ds-appid=\"590380\" href=\"http://store.steampowered.com/app/590380/Into_the_Breach/?snr=1_tags_4__103\" onmouseout=\"HideGameHover( this, event, 'global_hover' )\" onmouseover=\"GameHover( this, event, 'global_hover', {&quot;type&quot;:&quot;app&quot;,&quot;id&quot;:590380,&quot;params&quot;:{&quot;bDisableHover&quot;:false},&quot;public&quot;:1,&quot;v6&quot;:1} );\">\n",
       " <div class=\"tab_item_cap\">\n",
       " <img class=\"tab_item_cap_img\" src=\"http://cdn.edgecast.steamstatic.com/steam/apps/590380/capsule_184x69.jpg?t=1519743622\"/>\n",
       " </div>\n",
       " <div class=\"discount_block tab_item_discount no_discount\"> <div class=\"discount_prices\"><div class=\"discount_final_price\">R$ 28,99</div></div></div> <div class=\"tab_item_content\">\n",
       " <div class=\"tab_item_name\">Into the Breach</div>\n",
       " <div class=\"tab_item_details\">\n",
       " <span class=\"platform_img win\"></span> <div class=\"tab_item_top_tags\"><span class=\"top_tag\">Strategy</span><span class=\"top_tag\">, Indie</span><span class=\"top_tag\">, Turn-Based Strategy</span><span class=\"top_tag\">, RPG</span></div>\n",
       " </div>\n",
       " </div>\n",
       " <div style=\"clear: both;\"></div>\n",
       " </a>\n",
       " <a class=\"tab_item \" data-ds-appid=\"630100\" href=\"http://store.steampowered.com/app/630100/SoulWorker/?snr=1_tags_4__103\" onmouseout=\"HideGameHover( this, event, 'global_hover' )\" onmouseover=\"GameHover( this, event, 'global_hover', {&quot;type&quot;:&quot;app&quot;,&quot;id&quot;:630100,&quot;params&quot;:{&quot;bDisableHover&quot;:false},&quot;public&quot;:1,&quot;v6&quot;:1} );\">\n",
       " <div class=\"tab_item_cap\">\n",
       " <img class=\"tab_item_cap_img\" src=\"http://cdn.edgecast.steamstatic.com/steam/apps/630100/capsule_184x69.jpg?t=1519676252\"/>\n",
       " </div>\n",
       " <div class=\"discount_block tab_item_discount no_discount\"> <div class=\"discount_prices\"><div class=\"discount_final_price\">Free to Play</div></div></div> <div class=\"tab_item_content\">\n",
       " <div class=\"tab_item_name\">SoulWorker</div>\n",
       " <div class=\"tab_item_details\">\n",
       " <span class=\"platform_img win\"></span> <div class=\"tab_item_top_tags\"><span class=\"top_tag\">Free to Play</span><span class=\"top_tag\">, Massively Multiplayer</span><span class=\"top_tag\">, RPG</span><span class=\"top_tag\">, Action</span></div>\n",
       " </div>\n",
       " </div>\n",
       " <div style=\"clear: both;\"></div>\n",
       " </a>\n",
       " <a class=\"tab_item \" data-ds-appid=\"800560\" href=\"http://store.steampowered.com/app/800560/The_Great_Tournament_2/?snr=1_tags_4__103\" onmouseout=\"HideGameHover( this, event, 'global_hover' )\" onmouseover=\"GameHover( this, event, 'global_hover', {&quot;type&quot;:&quot;app&quot;,&quot;id&quot;:800560,&quot;params&quot;:{&quot;bDisableHover&quot;:false},&quot;public&quot;:1,&quot;v6&quot;:1} );\">\n",
       " <div class=\"tab_item_cap\">\n",
       " <img class=\"tab_item_cap_img\" src=\"http://cdn.edgecast.steamstatic.com/steam/apps/800560/capsule_184x69.jpg?t=1519666726\"/>\n",
       " </div>\n",
       " <div class=\"discount_block tab_item_discount\"> <div class=\"discount_pct\">-25%</div><div class=\"discount_prices\"><div class=\"discount_original_price\">R$ 8,69</div><div class=\"discount_final_price\">R$ 6,51</div></div></div> <div class=\"tab_item_content\">\n",
       " <div class=\"tab_item_name\">The Great Tournament 2</div>\n",
       " <div class=\"tab_item_details\">\n",
       " <span class=\"platform_img win\"></span><span class=\"platform_img mac\"></span><span class=\"platform_img linux\"></span> <div class=\"tab_item_top_tags\"><span class=\"top_tag\">Adventure</span><span class=\"top_tag\">, RPG</span><span class=\"top_tag\">, Indie</span><span class=\"top_tag\">, Text-Based</span></div>\n",
       " </div>\n",
       " </div>\n",
       " <div style=\"clear: both;\"></div>\n",
       " </a>\n",
       " <a class=\"tab_item \" data-ds-appid=\"760330\" href=\"http://store.steampowered.com/app/760330/BYTEPATH/?snr=1_tags_4__103\" onmouseout=\"HideGameHover( this, event, 'global_hover' )\" onmouseover=\"GameHover( this, event, 'global_hover', {&quot;type&quot;:&quot;app&quot;,&quot;id&quot;:760330,&quot;params&quot;:{&quot;bDisableHover&quot;:false},&quot;public&quot;:1,&quot;v6&quot;:1} );\">\n",
       " <div class=\"tab_item_cap\">\n",
       " <img class=\"tab_item_cap_img\" src=\"http://cdn.edgecast.steamstatic.com/steam/apps/760330/capsule_184x69.jpg?t=1519433499\"/>\n",
       " </div>\n",
       " <div class=\"discount_block tab_item_discount no_discount\"> <div class=\"discount_prices\"><div class=\"discount_final_price\">R$ 4,49</div></div></div> <div class=\"tab_item_content\">\n",
       " <div class=\"tab_item_name\">BYTEPATH</div>\n",
       " <div class=\"tab_item_details\">\n",
       " <span class=\"platform_img win\"></span><span class=\"platform_img linux\"></span> <div class=\"tab_item_top_tags\"><span class=\"top_tag\">Casual</span><span class=\"top_tag\">, Action</span><span class=\"top_tag\">, Indie</span><span class=\"top_tag\">, RPG</span></div>\n",
       " </div>\n",
       " </div>\n",
       " <div style=\"clear: both;\"></div>\n",
       " </a>\n",
       " <a class=\"tab_item \" data-ds-appid=\"655290\" href=\"http://store.steampowered.com/app/655290/Escape_The_Pacific/?snr=1_tags_4__103\" onmouseout=\"HideGameHover( this, event, 'global_hover' )\" onmouseover=\"GameHover( this, event, 'global_hover', {&quot;type&quot;:&quot;app&quot;,&quot;id&quot;:655290,&quot;params&quot;:{&quot;bDisableHover&quot;:false},&quot;public&quot;:1,&quot;v6&quot;:1} );\">\n",
       " <div class=\"tab_item_cap\">\n",
       " <img class=\"tab_item_cap_img\" src=\"http://cdn.edgecast.steamstatic.com/steam/apps/655290/capsule_184x69.jpg?t=1519725880\"/>\n",
       " </div>\n",
       " <div class=\"discount_block tab_item_discount\"> <div class=\"discount_pct\">-15%</div><div class=\"discount_prices\"><div class=\"discount_original_price\">R$ 28,99</div><div class=\"discount_final_price\">R$ 24,64</div></div></div> <div class=\"tab_item_content\">\n",
       " <div class=\"tab_item_name\">Escape The Pacific</div>\n",
       " <div class=\"tab_item_details\">\n",
       " <span class=\"platform_img win\"></span> <div class=\"tab_item_top_tags\"><span class=\"top_tag\">Early Access</span><span class=\"top_tag\">, Survival</span><span class=\"top_tag\">, Action</span><span class=\"top_tag\">, Adventure</span></div>\n",
       " </div>\n",
       " </div>\n",
       " <div style=\"clear: both;\"></div>\n",
       " </a>\n",
       " <a class=\"tab_item \" data-ds-appid=\"626690\" href=\"http://store.steampowered.com/app/626690/Sword_Art_Online_Fatal_Bullet/?snr=1_tags_4__103\" onmouseout=\"HideGameHover( this, event, 'global_hover' )\" onmouseover=\"GameHover( this, event, 'global_hover', {&quot;type&quot;:&quot;app&quot;,&quot;id&quot;:626690,&quot;params&quot;:{&quot;bDisableHover&quot;:false},&quot;public&quot;:1,&quot;v6&quot;:1} );\">\n",
       " <div class=\"tab_item_cap\">\n",
       " <img class=\"tab_item_cap_img\" src=\"http://cdn.edgecast.steamstatic.com/steam/apps/626690/capsule_184x69.jpg?t=1519737426\"/>\n",
       " </div>\n",
       " <div class=\"discount_block tab_item_discount no_discount\"> <div class=\"discount_prices\"><div class=\"discount_final_price\">R$ 159,90</div></div></div> <div class=\"tab_item_content\">\n",
       " <div class=\"tab_item_name\">Sword Art Online: Fatal Bullet</div>\n",
       " <div class=\"tab_item_details\">\n",
       " <span class=\"platform_img win\"></span> <div class=\"tab_item_top_tags\"><span class=\"top_tag\">Anime</span><span class=\"top_tag\">, RPG</span><span class=\"top_tag\">, Character Customization</span><span class=\"top_tag\">, Action</span></div>\n",
       " </div>\n",
       " </div>\n",
       " <div style=\"clear: both;\"></div>\n",
       " </a>\n",
       " <a class=\"tab_item \" data-ds-appid=\"788270\" href=\"http://store.steampowered.com/app/788270/Exiled_Kingdoms/?snr=1_tags_4__103\" onmouseout=\"HideGameHover( this, event, 'global_hover' )\" onmouseover=\"GameHover( this, event, 'global_hover', {&quot;type&quot;:&quot;app&quot;,&quot;id&quot;:788270,&quot;params&quot;:{&quot;bDisableHover&quot;:false},&quot;public&quot;:1,&quot;v6&quot;:1} );\">\n",
       " <div class=\"tab_item_cap\">\n",
       " <img class=\"tab_item_cap_img\" src=\"http://cdn.edgecast.steamstatic.com/steam/apps/788270/capsule_184x69.jpg?t=1519404434\"/>\n",
       " </div>\n",
       " <div class=\"discount_block tab_item_discount\"> <div class=\"discount_pct\">-15%</div><div class=\"discount_prices\"><div class=\"discount_original_price\">R$ 16,59</div><div class=\"discount_final_price\">R$ 14,10</div></div></div> <div class=\"tab_item_content\">\n",
       " <div class=\"tab_item_name\">Exiled Kingdoms</div>\n",
       " <div class=\"tab_item_details\">\n",
       " <span class=\"platform_img win\"></span><span class=\"platform_img mac\"></span><span class=\"platform_img linux\"></span> <div class=\"tab_item_top_tags\"><span class=\"top_tag\">Adventure</span><span class=\"top_tag\">, RPG</span><span class=\"top_tag\">, Indie</span><span class=\"top_tag\">, Action</span></div>\n",
       " </div>\n",
       " </div>\n",
       " <div style=\"clear: both;\"></div>\n",
       " </a>\n",
       " <a class=\"tab_item \" data-ds-appid=\"780390\" href=\"http://store.steampowered.com/app/780390/Space_Bob_vs_The_Replicons/?snr=1_tags_4__103\" onmouseout=\"HideGameHover( this, event, 'global_hover' )\" onmouseover=\"GameHover( this, event, 'global_hover', {&quot;type&quot;:&quot;app&quot;,&quot;id&quot;:780390,&quot;params&quot;:{&quot;bDisableHover&quot;:false},&quot;public&quot;:1,&quot;v6&quot;:1} );\">\n",
       " <div class=\"tab_item_cap\">\n",
       " <img class=\"tab_item_cap_img\" src=\"http://cdn.edgecast.steamstatic.com/steam/apps/780390/capsule_184x69.jpg?t=1519767621\"/>\n",
       " </div>\n",
       " <div class=\"discount_block tab_item_discount\"> <div class=\"discount_pct\">-10%</div><div class=\"discount_prices\"><div class=\"discount_original_price\">R$ 20,69</div><div class=\"discount_final_price\">R$ 18,62</div></div></div> <div class=\"tab_item_content\">\n",
       " <div class=\"tab_item_name\">Space Bob vs. The Replicons</div>\n",
       " <div class=\"tab_item_details\">\n",
       " <span class=\"platform_img win\"></span> <div class=\"tab_item_top_tags\"><span class=\"top_tag\">Early Access</span><span class=\"top_tag\">, Casual</span><span class=\"top_tag\">, Action</span><span class=\"top_tag\">, Adventure</span></div>\n",
       " </div>\n",
       " </div>\n",
       " <div style=\"clear: both;\"></div>\n",
       " </a>\n",
       " <a class=\"tab_item \" data-ds-appid=\"320330\" href=\"http://store.steampowered.com/app/320330/Earthworms/?snr=1_tags_4__103\" onmouseout=\"HideGameHover( this, event, 'global_hover' )\" onmouseover=\"GameHover( this, event, 'global_hover', {&quot;type&quot;:&quot;app&quot;,&quot;id&quot;:320330,&quot;params&quot;:{&quot;bDisableHover&quot;:false},&quot;public&quot;:1,&quot;v6&quot;:1} );\">\n",
       " <div class=\"tab_item_cap\">\n",
       " <img class=\"tab_item_cap_img\" src=\"http://cdn.edgecast.steamstatic.com/steam/apps/320330/capsule_184x69.jpg?t=1519547962\"/>\n",
       " </div>\n",
       " <div class=\"discount_block tab_item_discount\"> <div class=\"discount_pct\">-20%</div><div class=\"discount_prices\"><div class=\"discount_original_price\">R$ 11,99</div><div class=\"discount_final_price\">R$ 9,59</div></div></div> <div class=\"tab_item_content\">\n",
       " <div class=\"tab_item_name\">Earthworms</div>\n",
       " <div class=\"tab_item_details\">\n",
       " <span class=\"platform_img win\"></span> <div class=\"tab_item_top_tags\"><span class=\"top_tag\">Adventure</span><span class=\"top_tag\">, Indie</span><span class=\"top_tag\">, Casual</span><span class=\"top_tag\">, Great Soundtrack</span></div>\n",
       " </div>\n",
       " </div>\n",
       " <div style=\"clear: both;\"></div>\n",
       " </a>\n",
       " <a class=\"tab_item \" data-ds-appid=\"640150\" href=\"http://store.steampowered.com/app/640150/Tale_of_Toast/?snr=1_tags_4__103\" onmouseout=\"HideGameHover( this, event, 'global_hover' )\" onmouseover=\"GameHover( this, event, 'global_hover', {&quot;type&quot;:&quot;app&quot;,&quot;id&quot;:640150,&quot;params&quot;:{&quot;bDisableHover&quot;:false},&quot;public&quot;:1,&quot;v6&quot;:1} );\">\n",
       " <div class=\"tab_item_cap\">\n",
       " <img class=\"tab_item_cap_img\" src=\"http://cdn.edgecast.steamstatic.com/steam/apps/640150/capsule_184x69.jpg?t=1519376425\"/>\n",
       " </div>\n",
       " <div class=\"discount_block tab_item_discount no_discount\"> <div class=\"discount_prices\"><div class=\"discount_final_price\">Free To Play</div></div></div> <div class=\"tab_item_content\">\n",
       " <div class=\"tab_item_name\">Tale of Toast</div>\n",
       " <div class=\"tab_item_details\">\n",
       " <span class=\"platform_img win\"></span><span class=\"platform_img mac\"></span><span class=\"platform_img linux\"></span> <div class=\"tab_item_top_tags\"><span class=\"top_tag\">Early Access</span><span class=\"top_tag\">, Free to Play</span><span class=\"top_tag\">, RPG</span><span class=\"top_tag\">, Multiplayer</span></div>\n",
       " </div>\n",
       " </div>\n",
       " <div style=\"clear: both;\"></div>\n",
       " </a>\n",
       " <a class=\"tab_item \" data-ds-appid=\"628290\" href=\"http://store.steampowered.com/app/628290/All_Walls_Must_Fall__A_TechNoir_Tactics_Game/?snr=1_tags_4__103\" onmouseout=\"HideGameHover( this, event, 'global_hover' )\" onmouseover=\"GameHover( this, event, 'global_hover', {&quot;type&quot;:&quot;app&quot;,&quot;id&quot;:628290,&quot;params&quot;:{&quot;bDisableHover&quot;:false},&quot;public&quot;:1,&quot;v6&quot;:1} );\">\n",
       " <div class=\"tab_item_cap\">\n",
       " <img class=\"tab_item_cap_img\" src=\"http://cdn.edgecast.steamstatic.com/steam/apps/628290/capsule_184x69.jpg?t=1519406616\"/>\n",
       " </div>\n",
       " <div class=\"discount_block tab_item_discount\"> <div class=\"discount_pct\">-30%</div><div class=\"discount_prices\"><div class=\"discount_original_price\">R$ 19,89</div><div class=\"discount_final_price\">R$ 13,92</div></div></div> <div class=\"tab_item_content\">\n",
       " <div class=\"tab_item_name\">All Walls Must Fall - A Tech-Noir Tactics Game</div>\n",
       " <div class=\"tab_item_details\">\n",
       " <span class=\"platform_img win\"></span><span class=\"platform_img mac\"></span><span class=\"platform_img linux\"></span> <div class=\"tab_item_top_tags\"><span class=\"top_tag\">Indie</span><span class=\"top_tag\">, RPG</span><span class=\"top_tag\">, Cyberpunk</span><span class=\"top_tag\">, Violent</span></div>\n",
       " </div>\n",
       " </div>\n",
       " <div style=\"clear: both;\"></div>\n",
       " </a>\n",
       " <a class=\"tab_item \" data-ds-appid=\"791330\" href=\"http://store.steampowered.com/app/791330/Fallen_Makina_and_the_City_of_Ruins/?snr=1_tags_4__103\" onmouseout=\"HideGameHover( this, event, 'global_hover' )\" onmouseover=\"GameHover( this, event, 'global_hover', {&quot;type&quot;:&quot;app&quot;,&quot;id&quot;:791330,&quot;params&quot;:{&quot;bDisableHover&quot;:false},&quot;public&quot;:1,&quot;v6&quot;:1} );\">\n",
       " <div class=\"tab_item_cap\">\n",
       " <img class=\"tab_item_cap_img\" src=\"http://cdn.edgecast.steamstatic.com/steam/apps/791330/capsule_184x69.jpg?t=1519421202\"/>\n",
       " </div>\n",
       " <div class=\"discount_block tab_item_discount\"> <div class=\"discount_pct\">-33%</div><div class=\"discount_prices\"><div class=\"discount_original_price\">R$ 28,99</div><div class=\"discount_final_price\">R$ 19,42</div></div></div> <div class=\"tab_item_content\">\n",
       " <div class=\"tab_item_name\">Fallen ~Makina and the City of Ruins~</div>\n",
       " <div class=\"tab_item_details\">\n",
       " <span class=\"platform_img win\"></span> <div class=\"tab_item_top_tags\"><span class=\"top_tag\">Sexual Content</span><span class=\"top_tag\">, Nudity</span><span class=\"top_tag\">, RPG</span><span class=\"top_tag\">, Adventure</span></div>\n",
       " </div>\n",
       " </div>\n",
       " <div style=\"clear: both;\"></div>\n",
       " </a>\n",
       " <a class=\"tab_item \" data-ds-appid=\"777240\" href=\"http://store.steampowered.com/app/777240/Tren0/?snr=1_tags_4__103\" onmouseout=\"HideGameHover( this, event, 'global_hover' )\" onmouseover=\"GameHover( this, event, 'global_hover', {&quot;type&quot;:&quot;app&quot;,&quot;id&quot;:777240,&quot;params&quot;:{&quot;bDisableHover&quot;:false},&quot;public&quot;:1,&quot;v6&quot;:1} );\">\n",
       " <div class=\"tab_item_cap\">\n",
       " <img class=\"tab_item_cap_img\" src=\"http://cdn.edgecast.steamstatic.com/steam/apps/777240/capsule_184x69.jpg?t=1519463669\"/>\n",
       " </div>\n",
       " <div class=\"discount_block tab_item_discount\"> <div class=\"discount_pct\">-10%</div><div class=\"discount_prices\"><div class=\"discount_original_price\">R$ 6,49</div><div class=\"discount_final_price\">R$ 5,84</div></div></div> <div class=\"tab_item_content\">\n",
       " <div class=\"tab_item_name\">Tren0</div>\n",
       " <div class=\"tab_item_details\">\n",
       " <span class=\"platform_img win\"></span> <div class=\"tab_item_top_tags\"><span class=\"top_tag\">Adventure</span><span class=\"top_tag\">, RPG</span><span class=\"top_tag\">, Indie</span><span class=\"top_tag\">, Casual</span></div>\n",
       " </div>\n",
       " </div>\n",
       " <div style=\"clear: both;\"></div>\n",
       " </a>\n",
       " <a class=\"tab_item \" data-ds-appid=\"662840\" href=\"http://store.steampowered.com/app/662840/Abo_Khashem/?snr=1_tags_4__103\" onmouseout=\"HideGameHover( this, event, 'global_hover' )\" onmouseover=\"GameHover( this, event, 'global_hover', {&quot;type&quot;:&quot;app&quot;,&quot;id&quot;:662840,&quot;params&quot;:{&quot;bDisableHover&quot;:false},&quot;public&quot;:1,&quot;v6&quot;:1} );\">\n",
       " <div class=\"tab_item_cap\">\n",
       " <img class=\"tab_item_cap_img\" src=\"http://cdn.edgecast.steamstatic.com/steam/apps/662840/capsule_184x69.jpg?t=1519346875\"/>\n",
       " </div>\n",
       " <div class=\"discount_block tab_item_discount no_discount\"> <div class=\"discount_prices\"><div class=\"discount_final_price\">R$ 57,99</div></div></div> <div class=\"tab_item_content\">\n",
       " <div class=\"tab_item_name\">Abo Khashem</div>\n",
       " <div class=\"tab_item_details\">\n",
       " <span class=\"platform_img win\"></span> <div class=\"tab_item_top_tags\"><span class=\"top_tag\">Adventure</span><span class=\"top_tag\">, RPG</span><span class=\"top_tag\">, Casual</span><span class=\"top_tag\">, Action</span></div>\n",
       " </div>\n",
       " </div>\n",
       " <div style=\"clear: both;\"></div>\n",
       " </a>\n",
       " <a class=\"tab_item \" data-ds-appid=\"323220\" href=\"http://store.steampowered.com/app/323220/Vagante/?snr=1_tags_4__103\" onmouseout=\"HideGameHover( this, event, 'global_hover' )\" onmouseover=\"GameHover( this, event, 'global_hover', {&quot;type&quot;:&quot;app&quot;,&quot;id&quot;:323220,&quot;params&quot;:{&quot;bDisableHover&quot;:false},&quot;public&quot;:1,&quot;v6&quot;:1} );\">\n",
       " <div class=\"tab_item_cap\">\n",
       " <img class=\"tab_item_cap_img\" src=\"http://cdn.edgecast.steamstatic.com/steam/apps/323220/capsule_184x69.jpg?t=1519275346\"/>\n",
       " </div>\n",
       " <div class=\"discount_block tab_item_discount no_discount\"> <div class=\"discount_prices\"><div class=\"discount_final_price\">R$ 27,99</div></div></div> <div class=\"tab_item_content\">\n",
       " <div class=\"tab_item_name\">Vagante</div>\n",
       " <div class=\"tab_item_details\">\n",
       " <span class=\"platform_img win\"></span><span class=\"platform_img mac\"></span><span class=\"platform_img linux\"></span> <div class=\"tab_item_top_tags\"><span class=\"top_tag\">Rogue-like</span><span class=\"top_tag\">, Rogue-lite</span><span class=\"top_tag\">, Pixel Graphics</span><span class=\"top_tag\">, RPG</span></div>\n",
       " </div>\n",
       " </div>\n",
       " <div style=\"clear: both;\"></div>\n",
       " </a>\n",
       " <a class=\"tab_item \" data-ds-appid=\"752330\" href=\"http://store.steampowered.com/app/752330/Shape_of_America_Episode_One/?snr=1_tags_4__103\" onmouseout=\"HideGameHover( this, event, 'global_hover' )\" onmouseover=\"GameHover( this, event, 'global_hover', {&quot;type&quot;:&quot;app&quot;,&quot;id&quot;:752330,&quot;params&quot;:{&quot;bDisableHover&quot;:false},&quot;public&quot;:1,&quot;v6&quot;:1} );\">\n",
       " <div class=\"tab_item_cap\">\n",
       " <img class=\"tab_item_cap_img\" src=\"http://cdn.edgecast.steamstatic.com/steam/apps/752330/capsule_184x69.jpg?t=1519328017\"/>\n",
       " </div>\n",
       " <div class=\"discount_block tab_item_discount no_discount\"> <div class=\"discount_prices\"><div class=\"discount_final_price\">R$ 10,89</div></div></div> <div class=\"tab_item_content\">\n",
       " <div class=\"tab_item_name\">Shape of America: Episode One</div>\n",
       " <div class=\"tab_item_details\">\n",
       " <span class=\"platform_img win\"></span> <div class=\"tab_item_top_tags\"><span class=\"top_tag\">RPG</span><span class=\"top_tag\">, Adventure</span><span class=\"top_tag\">, Indie</span><span class=\"top_tag\">, Political</span></div>\n",
       " </div>\n",
       " </div>\n",
       " <div style=\"clear: both;\"></div>\n",
       " </a>\n",
       " <a class=\"tab_item \" data-ds-appid=\"786580\" href=\"http://store.steampowered.com/app/786580/Gleaner_Heights/?snr=1_tags_4__103\" onmouseout=\"HideGameHover( this, event, 'global_hover' )\" onmouseover=\"GameHover( this, event, 'global_hover', {&quot;type&quot;:&quot;app&quot;,&quot;id&quot;:786580,&quot;params&quot;:{&quot;bDisableHover&quot;:false},&quot;public&quot;:1,&quot;v6&quot;:1} );\">\n",
       " <div class=\"tab_item_cap\">\n",
       " <img class=\"tab_item_cap_img\" src=\"http://cdn.edgecast.steamstatic.com/steam/apps/786580/capsule_184x69.jpg?t=1519602848\"/>\n",
       " </div>\n",
       " <div class=\"discount_block tab_item_discount\"> <div class=\"discount_pct\">-10%</div><div class=\"discount_prices\"><div class=\"discount_original_price\">R$ 20,69</div><div class=\"discount_final_price\">R$ 18,62</div></div></div> <div class=\"tab_item_content\">\n",
       " <div class=\"tab_item_name\">Gleaner Heights</div>\n",
       " <div class=\"tab_item_details\">\n",
       " <span class=\"platform_img win\"></span> <div class=\"tab_item_top_tags\"><span class=\"top_tag\">Simulation</span><span class=\"top_tag\">, RPG</span><span class=\"top_tag\">, Adventure</span><span class=\"top_tag\">, Indie</span></div>\n",
       " </div>\n",
       " </div>\n",
       " <div style=\"clear: both;\"></div>\n",
       " </a>\n",
       " </div>]"
      ]
     },
     "execution_count": 497,
     "metadata": {},
     "output_type": "execute_result"
    }
   ],
   "source": [
    "all_games"
   ]
  },
  {
   "cell_type": "code",
   "execution_count": 534,
   "metadata": {},
   "outputs": [
    {
     "ename": "TypeError",
     "evalue": "'str' object is not callable",
     "output_type": "error",
     "traceback": [
      "\u001b[1;31m---------------------------------------------------------------------------\u001b[0m",
      "\u001b[1;31mTypeError\u001b[0m                                 Traceback (most recent call last)",
      "\u001b[1;32m<ipython-input-534-4b1cb6dd4839>\u001b[0m in \u001b[0;36m<module>\u001b[1;34m()\u001b[0m\n\u001b[1;32m----> 1\u001b[1;33m \u001b[0mall_games\u001b[0m\u001b[1;33m=\u001b[0m\u001b[0msoup\u001b[0m\u001b[1;33m.\u001b[0m\u001b[0mfind_all\u001b[0m\u001b[1;33m(\u001b[0m\u001b[1;34m'div'\u001b[0m\u001b[1;33m(\u001b[0m\u001b[1;34m'a'\u001b[0m\u001b[1;33m)\u001b[0m\u001b[1;33m)\u001b[0m \u001b[1;31m# [0].find_all('div',{'class':'tab_item_name'})\u001b[0m\u001b[1;33m\u001b[0m\u001b[0m\n\u001b[0m",
      "\u001b[1;31mTypeError\u001b[0m: 'str' object is not callable"
     ]
    }
   ],
   "source": [
    "all_games=soup.find_all('div'('a')) # [0].find_all('div',{'class':'tab_item_name'})"
   ]
  },
  {
   "cell_type": "code",
   "execution_count": 533,
   "metadata": {},
   "outputs": [
    {
     "data": {
      "text/plain": [
       "248"
      ]
     },
     "execution_count": 533,
     "metadata": {},
     "output_type": "execute_result"
    }
   ],
   "source": [
    "len(all_games)"
   ]
  },
  {
   "cell_type": "code",
   "execution_count": 537,
   "metadata": {},
   "outputs": [],
   "source": [
    "all_games=soup.find_all('a',{'class':'tab_item   app_impression_tracked'})"
   ]
  },
  {
   "cell_type": "code",
   "execution_count": 538,
   "metadata": {},
   "outputs": [
    {
     "data": {
      "text/plain": [
       "[]"
      ]
     },
     "execution_count": 538,
     "metadata": {},
     "output_type": "execute_result"
    }
   ],
   "source": [
    "all_games"
   ]
  },
  {
   "cell_type": "code",
   "execution_count": null,
   "metadata": {
    "collapsed": true
   },
   "outputs": [],
   "source": [
    "# I'm trying to find a solution to this question:\n",
    "# https://stackoverflow.com/questions/49019168/using-beautiful-soup-find-method-with-a-tag"
   ]
  }
 ],
 "metadata": {
  "kernelspec": {
   "display_name": "Python 3",
   "language": "python",
   "name": "python3"
  },
  "language_info": {
   "codemirror_mode": {
    "name": "ipython",
    "version": 3
   },
   "file_extension": ".py",
   "mimetype": "text/x-python",
   "name": "python",
   "nbconvert_exporter": "python",
   "pygments_lexer": "ipython3",
   "version": "3.6.3"
  }
 },
 "nbformat": 4,
 "nbformat_minor": 2
}
