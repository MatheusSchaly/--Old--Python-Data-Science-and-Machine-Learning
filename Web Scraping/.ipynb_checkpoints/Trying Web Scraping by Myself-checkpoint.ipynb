{
 "cells": [
  {
   "cell_type": "code",
   "execution_count": 7,
   "metadata": {
    "collapsed": true
   },
   "outputs": [],
   "source": [
    "# Trying to scrap data from Steam RPG games\n",
    "# Questions created:\n",
    "# https://stackoverflow.com/questions/49035188/finding-number-of-pages-using-python-beautifulsoup\n",
    "# https://stackoverflow.com/questions/49019168/using-beautiful-soup-in-a-class-that-contains-spaces\n",
    "\n",
    "import requests, re\n",
    "from bs4 import BeautifulSoup"
   ]
  },
  {
   "cell_type": "code",
   "execution_count": 8,
   "metadata": {
    "collapsed": true,
    "scrolled": true
   },
   "outputs": [],
   "source": [
    "r=requests.get('http://store.steampowered.com/tags/en-us/RPG/')"
   ]
  },
  {
   "cell_type": "code",
   "execution_count": 9,
   "metadata": {
    "collapsed": true
   },
   "outputs": [],
   "source": [
    "c=r.content # Extracts the content of the source"
   ]
  },
  {
   "cell_type": "code",
   "execution_count": 10,
   "metadata": {
    "collapsed": true
   },
   "outputs": [],
   "source": [
    "soup=BeautifulSoup(c,'html.parser') # Parses the HTML page"
   ]
  },
  {
   "cell_type": "code",
   "execution_count": 22,
   "metadata": {},
   "outputs": [],
   "source": [
    "total_items = int(soup.find(\"span\",{\"id\":\"NewReleases_total\"}).text)\n",
    "items_per_page = int(soup.find('span', id='NewReleases_end').text)\n",
    "page_quantity = round(total_items/items_per_page) # Total pages containing 20 games each"
   ]
  },
  {
   "cell_type": "code",
   "execution_count": 12,
   "metadata": {
    "collapsed": true
   },
   "outputs": [],
   "source": [
    "all_games = soup.find('div', {'id':'NewReleasesRows'}).find_all('a', {'class':'tab_item'}) # Main games from page"
   ]
  },
  {
   "cell_type": "code",
   "execution_count": 26,
   "metadata": {},
   "outputs": [],
   "source": [
    "games_list = []\n",
    "for game in all_games:\n",
    "    d = {}\n",
    "    d['Name'] = game.find('div', {'class':'tab_item_name'}).text\n",
    "    d['Price'] = game.find('div', {'class':'discount_final_price'}).text\n",
    "    try:\n",
    "        d['Discount'] = game.find('div', {'class':'discount_pct'}).text\n",
    "    except:\n",
    "        d['Discount'] = str(0)\n",
    "    tags_list = game.find('div', {'class':'tab_item_top_tags'}).text.replace(',', '').split()\n",
    "    d['Tags'] = tags_list\n",
    "    platforms_list = []\n",
    "    for platform in game.find_all('span', {'class':'platform_img'}):\n",
    "        platforms_list.append(platform['class'][1])\n",
    "    d['Platforms'] = platforms_list\n",
    "    games_list.append(d)\n",
    "        "
   ]
  },
  {
   "cell_type": "code",
   "execution_count": 27,
   "metadata": {},
   "outputs": [
    {
     "data": {
      "text/plain": [
       "[{'Discount': '-15%',\n",
       "  'Name': 'Where the Water Tastes Like Wine',\n",
       "  'Platforms': ['win', 'mac', 'linux'],\n",
       "  'Price': 'R$ 31,44',\n",
       "  'Tags': ['RPG', 'Indie', 'Adventure']},\n",
       " {'Discount': '-10%',\n",
       "  'Name': 'Elium - Prison Escape',\n",
       "  'Platforms': ['win'],\n",
       "  'Price': 'R$ 25,10',\n",
       "  'Tags': ['Indie', 'Violent', 'Action', 'RPG']},\n",
       " {'Discount': '0',\n",
       "  'Name': '众生',\n",
       "  'Platforms': ['win'],\n",
       "  'Price': 'R$ 28,99',\n",
       "  'Tags': ['Early', 'Access', 'Strategy', 'RPG', 'Indie']},\n",
       " {'Discount': '0',\n",
       "  'Name': 'DragonFangZ - The Rose & Dungeon of Time',\n",
       "  'Platforms': ['win', 'mac'],\n",
       "  'Price': 'R$ 47,49',\n",
       "  'Tags': ['RPG', 'Indie', 'Rogue-like']},\n",
       " {'Discount': '-30%',\n",
       "  'Name': 'Cyberdimension Neptunia: 4 Goddesses Online | 四女神オンライン CYBER DIMENSION NEPTUNE | 四女神ONLINE 幻次元遊戲戰機少女',\n",
       "  'Platforms': ['win'],\n",
       "  'Price': 'R$ 52,84',\n",
       "  'Tags': ['RPG', 'Anime', 'JRPG', 'Hack', 'and', 'Slash']},\n",
       " {'Discount': '0',\n",
       "  'Name': 'CHRONO TRIGGER®',\n",
       "  'Platforms': ['win'],\n",
       "  'Price': 'R$ 49,99',\n",
       "  'Tags': ['RPG', 'JRPG', 'Classic', 'Great', 'Soundtrack']},\n",
       " {'Discount': '-10%',\n",
       "  'Name': 'Worshippers',\n",
       "  'Platforms': ['win'],\n",
       "  'Price': 'R$ 18,62',\n",
       "  'Tags': ['RPG', 'Strategy', 'Turn-Based', 'Strategy', 'Board', 'Game']},\n",
       " {'Discount': '0',\n",
       "  'Name': 'Into the Breach',\n",
       "  'Platforms': ['win'],\n",
       "  'Price': 'R$ 28,99',\n",
       "  'Tags': ['Strategy', 'Indie', 'Turn-Based', 'Strategy', 'Mechs']},\n",
       " {'Discount': '0',\n",
       "  'Name': 'SoulWorker',\n",
       "  'Platforms': ['win'],\n",
       "  'Price': 'Free to Play',\n",
       "  'Tags': ['Free',\n",
       "   'to',\n",
       "   'Play',\n",
       "   'Massively',\n",
       "   'Multiplayer',\n",
       "   'Anime',\n",
       "   'Action']},\n",
       " {'Discount': '-25%',\n",
       "  'Name': 'The Great Tournament 2',\n",
       "  'Platforms': ['win', 'mac', 'linux'],\n",
       "  'Price': 'R$ 6,51',\n",
       "  'Tags': ['Adventure', 'RPG', 'Indie', 'Text-Based']},\n",
       " {'Discount': '0',\n",
       "  'Name': 'BYTEPATH',\n",
       "  'Platforms': ['win', 'linux'],\n",
       "  'Price': 'R$ 4,49',\n",
       "  'Tags': ['Casual', 'Action', 'Indie', 'RPG']},\n",
       " {'Discount': '-15%',\n",
       "  'Name': 'Escape The Pacific',\n",
       "  'Platforms': ['win'],\n",
       "  'Price': 'R$ 24,64',\n",
       "  'Tags': ['Early', 'Access', 'Survival', 'Action', 'Adventure']},\n",
       " {'Discount': '0',\n",
       "  'Name': 'Sword Art Online: Fatal Bullet',\n",
       "  'Platforms': ['win'],\n",
       "  'Price': 'R$ 159,90',\n",
       "  'Tags': ['Anime', 'RPG', 'Character', 'Customization', 'Action']},\n",
       " {'Discount': '-15%',\n",
       "  'Name': 'Exiled Kingdoms',\n",
       "  'Platforms': ['win', 'mac', 'linux'],\n",
       "  'Price': 'R$ 14,10',\n",
       "  'Tags': ['Adventure', 'RPG', 'Indie', 'Action']},\n",
       " {'Discount': '-10%',\n",
       "  'Name': 'Space Bob vs. The Replicons',\n",
       "  'Platforms': ['win'],\n",
       "  'Price': 'R$ 18,62',\n",
       "  'Tags': ['Early', 'Access', 'Casual', 'Action', 'Adventure']},\n",
       " {'Discount': '-20%',\n",
       "  'Name': 'Earthworms',\n",
       "  'Platforms': ['win'],\n",
       "  'Price': 'R$ 9,59',\n",
       "  'Tags': ['Adventure', 'Indie', 'Casual', 'Great', 'Soundtrack']},\n",
       " {'Discount': '0',\n",
       "  'Name': 'Tale of Toast',\n",
       "  'Platforms': ['win', 'mac', 'linux'],\n",
       "  'Price': 'Free To Play',\n",
       "  'Tags': ['Early', 'Access', 'Free', 'to', 'Play', 'RPG', 'Multiplayer']},\n",
       " {'Discount': '-30%',\n",
       "  'Name': 'All Walls Must Fall - A Tech-Noir Tactics Game',\n",
       "  'Platforms': ['win', 'mac', 'linux'],\n",
       "  'Price': 'R$ 13,92',\n",
       "  'Tags': ['Indie', 'RPG', 'Cyberpunk', 'Violent']},\n",
       " {'Discount': '-33%',\n",
       "  'Name': 'Fallen ~Makina and the City of Ruins~',\n",
       "  'Platforms': ['win'],\n",
       "  'Price': 'R$ 19,42',\n",
       "  'Tags': ['Sexual', 'Content', 'Nudity', 'RPG', 'Anime']},\n",
       " {'Discount': '-10%',\n",
       "  'Name': 'Tren0',\n",
       "  'Platforms': ['win'],\n",
       "  'Price': 'R$ 5,84',\n",
       "  'Tags': ['Adventure', 'RPG', 'Indie', 'Casual']}]"
      ]
     },
     "execution_count": 27,
     "metadata": {},
     "output_type": "execute_result"
    }
   ],
   "source": [
    "games_list"
   ]
  },
  {
   "cell_type": "code",
   "execution_count": null,
   "metadata": {
    "collapsed": true
   },
   "outputs": [],
   "source": []
  }
 ],
 "metadata": {
  "kernelspec": {
   "display_name": "Python 3",
   "language": "python",
   "name": "python3"
  },
  "language_info": {
   "codemirror_mode": {
    "name": "ipython",
    "version": 3
   },
   "file_extension": ".py",
   "mimetype": "text/x-python",
   "name": "python",
   "nbconvert_exporter": "python",
   "pygments_lexer": "ipython3",
   "version": "3.6.3"
  }
 },
 "nbformat": 4,
 "nbformat_minor": 2
}
