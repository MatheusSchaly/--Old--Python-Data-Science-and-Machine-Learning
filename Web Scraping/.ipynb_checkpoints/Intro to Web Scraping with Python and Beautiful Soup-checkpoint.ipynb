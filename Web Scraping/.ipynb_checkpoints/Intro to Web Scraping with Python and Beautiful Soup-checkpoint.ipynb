{
 "cells": [
  {
   "cell_type": "code",
   "execution_count": 1,
   "metadata": {
    "collapsed": true
   },
   "outputs": [],
   "source": [
    "# Reference: https://www.youtube.com/watch?v=XQgXKtPSzUI&t=684s\n",
    "\n",
    "import bs4\n",
    "from urllib.request import urlopen as uReq\n",
    "from bs4 import BeautifulSoup as soup"
   ]
  },
  {
   "cell_type": "code",
   "execution_count": 2,
   "metadata": {
    "collapsed": true
   },
   "outputs": [],
   "source": [
    "my_url = 'https://www.newegg.com/Video-Cards-Video-Devices/Category/ID-38?Tpk=graphics%20card'"
   ]
  },
  {
   "cell_type": "code",
   "execution_count": 3,
   "metadata": {},
   "outputs": [
    {
     "data": {
      "text/plain": [
       "'https://www.newegg.com/Video-Cards-Video-Devices/Category/ID-38?Tpk=graphics%20card'"
      ]
     },
     "execution_count": 3,
     "metadata": {},
     "output_type": "execute_result"
    }
   ],
   "source": [
    "my_url"
   ]
  },
  {
   "cell_type": "code",
   "execution_count": 4,
   "metadata": {
    "collapsed": true
   },
   "outputs": [],
   "source": [
    "uClient = uReq(my_url) # Opening connection, grabbing the page"
   ]
  },
  {
   "cell_type": "code",
   "execution_count": 5,
   "metadata": {
    "collapsed": true
   },
   "outputs": [],
   "source": [
    "page_html = uClient.read()"
   ]
  },
  {
   "cell_type": "code",
   "execution_count": 6,
   "metadata": {
    "collapsed": true
   },
   "outputs": [],
   "source": [
    "uClient.close()"
   ]
  },
  {
   "cell_type": "code",
   "execution_count": 7,
   "metadata": {
    "collapsed": true
   },
   "outputs": [],
   "source": [
    "page_soup = soup(page_html, 'html.parser') #Html parsing"
   ]
  },
  {
   "cell_type": "code",
   "execution_count": 8,
   "metadata": {},
   "outputs": [
    {
     "data": {
      "text/plain": [
       "<h1 class=\"page-title-text\">Video Cards &amp; Video Devices</h1>"
      ]
     },
     "execution_count": 8,
     "metadata": {},
     "output_type": "execute_result"
    }
   ],
   "source": [
    "page_soup.h1"
   ]
  },
  {
   "cell_type": "code",
   "execution_count": 9,
   "metadata": {},
   "outputs": [
    {
     "data": {
      "text/plain": [
       "<p>Newegg.com - A great place to buy computers, computer parts, electronics, software, accessories, and DVDs online. With great prices, fast shipping, and top-rated customer service - once you know, you Newegg.</p>"
      ]
     },
     "execution_count": 9,
     "metadata": {},
     "output_type": "execute_result"
    }
   ],
   "source": [
    "page_soup.p"
   ]
  },
  {
   "cell_type": "code",
   "execution_count": 11,
   "metadata": {},
   "outputs": [
    {
     "data": {
      "text/plain": [
       "<span class=\"noCSS\">Skip to:</span>"
      ]
     },
     "execution_count": 11,
     "metadata": {},
     "output_type": "execute_result"
    }
   ],
   "source": [
    "page_soup.body.span"
   ]
  },
  {
   "cell_type": "code",
   "execution_count": 122,
   "metadata": {
    "collapsed": true
   },
   "outputs": [],
   "source": [
    "containers = page_soup.findAll('div', {'class':'item-container'}) # Grabs each product "
   ]
  },
  {
   "cell_type": "code",
   "execution_count": 123,
   "metadata": {},
   "outputs": [
    {
     "data": {
      "text/plain": [
       "12"
      ]
     },
     "execution_count": 123,
     "metadata": {},
     "output_type": "execute_result"
    }
   ],
   "source": [
    "len(containers)"
   ]
  },
  {
   "cell_type": "code",
   "execution_count": 124,
   "metadata": {},
   "outputs": [],
   "source": [
    "container = containers[0]"
   ]
  },
  {
   "cell_type": "code",
   "execution_count": 125,
   "metadata": {},
   "outputs": [
    {
     "data": {
      "text/plain": [
       "'ASUS'"
      ]
     },
     "execution_count": 125,
     "metadata": {},
     "output_type": "execute_result"
    }
   ],
   "source": [
    "container.div.div.a.img['title']"
   ]
  },
  {
   "cell_type": "code",
   "execution_count": 126,
   "metadata": {},
   "outputs": [
    {
     "data": {
      "text/plain": [
       "'ASUS ROG Strix Radeon RX 570 O4G Gaming OC Edition GDDR5 DP HDMI DVI VR Ready AMD Graphics Card (ROG-STRIX-RX570-O4G-GAMING)'"
      ]
     },
     "execution_count": 126,
     "metadata": {},
     "output_type": "execute_result"
    }
   ],
   "source": [
    "container.a.img['title']"
   ]
  },
  {
   "cell_type": "code",
   "execution_count": 127,
   "metadata": {},
   "outputs": [
    {
     "data": {
      "text/plain": [
       "'ASUS ROG Strix Radeon RX 570 O4G Gaming OC Edition GDDR5 DP HDMI DVI VR Ready AMD Graphics Card (ROG-STRIX-RX570-O4G-GAMING)'"
      ]
     },
     "execution_count": 127,
     "metadata": {},
     "output_type": "execute_result"
    }
   ],
   "source": [
    "container.findAll('a', {'class':'item-title'})[0].text"
   ]
  },
  {
   "cell_type": "code",
   "execution_count": 128,
   "metadata": {},
   "outputs": [
    {
     "data": {
      "text/plain": [
       "'$4.99 Shipping'"
      ]
     },
     "execution_count": 128,
     "metadata": {},
     "output_type": "execute_result"
    }
   ],
   "source": [
    "container.findAll('li', {'class':'price-ship'})[0].text.strip()"
   ]
  },
  {
   "cell_type": "code",
   "execution_count": 132,
   "metadata": {},
   "outputs": [
    {
     "name": "stdout",
     "output_type": "stream",
     "text": [
      "brandASUS\n",
      "product_nameASUS ROG Strix Radeon RX 570 O4G Gaming OC Edition GDDR5 DP HDMI DVI VR Ready AMD Graphics Card (ROG-STRIX-RX570-O4G-GAMING)\n",
      "shipping$4.99 Shipping\n",
      "brandGIGABYTE\n",
      "product_nameGIGABYTE GeForce GTX 1080 Ti Turbo 11GD, GV-N108TTURBO-11GD\n",
      "shipping$4.99 Shipping\n",
      "brandMSI\n",
      "product_nameMSI GeForce GTX 1050 Ti DirectX 12 GTX 1050 Ti GAMING X 4G Video Card\n",
      "shipping$4.99 Shipping\n",
      "brandEVGA\n",
      "product_nameEVGA GeForce GTX 1050 Ti SC GAMING, 04G-P4-6253-KR, 4GB GDDR5, DX12 OSD Support (PXOC)\n",
      "shipping$4.99 Shipping\n",
      "brandASUS\n",
      "product_nameASUS GeForce GTX 1050 PH-GTX1050-2G Video Card\n",
      "shipping$4.99 Shipping\n",
      "brandXFX\n",
      "product_nameXFX Radeon RX 550 DirectX 12 RX-550P4LFG5 Video Card\n",
      "shipping$3.99 Shipping\n",
      "brandGIGABYTE\n",
      "product_nameGIGABYTE AORUS GeForce GTX 1060 6G REV 2.0, GV-N1060AORUS-6GD R2\n",
      "shipping$4.99 Shipping\n",
      "brandZOTAC\n",
      "product_nameZOTAC GeForce GTX 1050 Ti DirectX 12 ZT-P10510A-10L Video Card\n",
      "shipping$4.99 Shipping\n",
      "brandASUS\n",
      "product_nameASUS ROG Radeon RX Vega 56 STRIX-RXVEGA56-O8G-GAMING Video Card\n",
      "shipping$4.99 Shipping\n",
      "brandSapphire Tech\n",
      "product_nameSAPPHIRE NITRO+ Radeon RX 580 DirectX 12 100411NT+4G-2L Video Card w/ Backplate (UEFI), SAMSUNG MEMORY\n",
      "shipping$4.99 Shipping\n",
      "brand\n",
      "product_nameMSI Radeon RX 580 DirectX 12 R X 580 ARMOR 8G OC 8GB 256-Bit GDDR5 PCI Express ...\n",
      "shipping\n",
      "brand\n",
      "product_nameEVGA GeForce GTX 1060 DirectX 12 06G-P4-6262-KR 6GB 192-Bit GDDR5 PCI Express ...\n",
      "shipping\n"
     ]
    }
   ],
   "source": [
    "for container in containers:\n",
    "    try: # Last 2 items don't have brand anymore, nor shipping price\n",
    "        brand = container.div.div.a.img['title']\n",
    "    except:\n",
    "        brand = \"\"\n",
    "    product_name = container.findAll('a', {'class':'item-title'})[0].text\n",
    "    shipping = container.findAll('li', {'class':'price-ship'})[0].text.strip()\n",
    "\n",
    "    print(\"brand\" + brand)\n",
    "    print(\"product_name\" + product_name)\n",
    "    print(\"shipping\" + shipping)"
   ]
  },
  {
   "cell_type": "code",
   "execution_count": null,
   "metadata": {
    "collapsed": true
   },
   "outputs": [],
   "source": []
  }
 ],
 "metadata": {
  "kernelspec": {
   "display_name": "Python 3",
   "language": "python",
   "name": "python3"
  },
  "language_info": {
   "codemirror_mode": {
    "name": "ipython",
    "version": 3
   },
   "file_extension": ".py",
   "mimetype": "text/x-python",
   "name": "python",
   "nbconvert_exporter": "python",
   "pygments_lexer": "ipython3",
   "version": "3.6.3"
  }
 },
 "nbformat": 4,
 "nbformat_minor": 2
}
