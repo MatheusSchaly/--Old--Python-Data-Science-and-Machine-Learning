{
 "cells": [
  {
   "cell_type": "code",
   "execution_count": 88,
   "metadata": {
    "collapsed": true
   },
   "outputs": [],
   "source": [
    "# Trying to scrap data from Steam RPG games\n",
    "\n",
    "import requests, re\n",
    "from bs4 import BeautifulSoup\n",
    "import json"
   ]
  },
  {
   "cell_type": "code",
   "execution_count": 89,
   "metadata": {
    "collapsed": true,
    "scrolled": true
   },
   "outputs": [],
   "source": [
    "# https://stackoverflow.com/questions/41982475/scraper-in-python-gives-access-denied\n",
    "# Modified to enable the access that I need\n",
    "\n",
    "def extract_source(url):\n",
    "    headers = {'User-Agent': 'Mozilla/5.0 (Windows NT 6.1; WOW64; rv:50.0) Gecko/20100101 Firefox/50.0'}\n",
    "    source=requests.get(url, headers=headers)\n",
    "    return source\n",
    "\n",
    "r=extract_source('http://store.steampowered.com/tags/en-us/RPG/')"
   ]
  },
  {
   "cell_type": "code",
   "execution_count": 90,
   "metadata": {
    "collapsed": true
   },
   "outputs": [],
   "source": [
    "c=r.content # Extracts the content of the source"
   ]
  },
  {
   "cell_type": "code",
   "execution_count": 91,
   "metadata": {
    "collapsed": true
   },
   "outputs": [],
   "source": [
    "soup=BeautifulSoup(c,'html.parser') # Parses the HTML page"
   ]
  },
  {
   "cell_type": "code",
   "execution_count": 8,
   "metadata": {
    "collapsed": true
   },
   "outputs": [],
   "source": [
    "# Ignore this line\n",
    "# all_games=soup.find_all('div',{'id':'NewReleasesRows'}) # Finds all 'divs' which 'id' is equal to 'NewReleasesRows'"
   ]
  },
  {
   "cell_type": "code",
   "execution_count": 12,
   "metadata": {
    "collapsed": true
   },
   "outputs": [],
   "source": [
    "# Ignore this line\n",
    "# game_feature_list = []\n",
    "# for i in range(0,len(all_games[0].find_all('div',{'class':'tab_item_name'}))):\n",
    "#     d={}\n",
    "#     d['Name']=all_games[0].find_all('div',{'class':'tab_item_name'})[i].text\n",
    "#     d['Final Price']=all_games[0].find_all('div',{'class':'discount_final_price'})[i].text\n",
    "#     try:\n",
    "#         d['Discount Percentage']=all_games[0].find_all('div',{'class':'discount_pct'})[i].text\n",
    "#     except:\n",
    "#         d['Discount Percentage']=None\n",
    "#     game_tag = [] # A list with game tags RPG Classic...\n",
    "#     for j in range(len(all_games[0].find_all('div',{'class':'tab_item_top_tags'})[i])):\n",
    "#         game_tag.append(all_games[0].find_all('span',{'class':'top_tag'})[j].text.replace(',',\"\").replace(\" \",\"\"))\n",
    "#     d['Tags']=game_tag\n",
    "#     game_feature_list.append(d)"
   ]
  },
  {
   "cell_type": "code",
   "execution_count": null,
   "metadata": {
    "collapsed": true
   },
   "outputs": [],
   "source": [
    "# Ignore this line\n",
    "# html_elements = soup.findAll('a', {'class':['tab_item', 'app_impression_tracked']})"
   ]
  },
  {
   "cell_type": "code",
   "execution_count": 16,
   "metadata": {
    "collapsed": true
   },
   "outputs": [],
   "source": [
    "# Ignore this line\n",
    "# I'm trying to find a solution to this question:\n",
    "# https://stackoverflow.com/questions/49019168/using-beautiful-soup-find-method-with-a-tag"
   ]
  },
  {
   "cell_type": "code",
   "execution_count": 96,
   "metadata": {
    "collapsed": true
   },
   "outputs": [],
   "source": [
    "all_games = soup.select(\"a.[class*='tab_item.app_impression_tracked']\")"
   ]
  },
  {
   "cell_type": "code",
   "execution_count": 97,
   "metadata": {},
   "outputs": [
    {
     "data": {
      "text/plain": [
       "0"
      ]
     },
     "execution_count": 97,
     "metadata": {},
     "output_type": "execute_result"
    }
   ],
   "source": [
    "len(all_games)"
   ]
  },
  {
   "cell_type": "code",
   "execution_count": 98,
   "metadata": {},
   "outputs": [],
   "source": [
    "all_games = soup.find_all(\"a\", class_='menuitem') # Working"
   ]
  },
  {
   "cell_type": "code",
   "execution_count": 99,
   "metadata": {},
   "outputs": [
    {
     "data": {
      "text/plain": [
       "8"
      ]
     },
     "execution_count": 99,
     "metadata": {},
     "output_type": "execute_result"
    }
   ],
   "source": [
    "len(all_games)"
   ]
  },
  {
   "cell_type": "code",
   "execution_count": 100,
   "metadata": {
    "collapsed": true
   },
   "outputs": [],
   "source": [
    "all_games = soup.find_all(\"a\", class_=\"tab_item   app_impression_tracked\") # Not working somehow"
   ]
  },
  {
   "cell_type": "code",
   "execution_count": 102,
   "metadata": {},
   "outputs": [
    {
     "data": {
      "text/plain": [
       "0"
      ]
     },
     "execution_count": 102,
     "metadata": {},
     "output_type": "execute_result"
    }
   ],
   "source": [
    "len(all_games)"
   ]
  },
  {
   "cell_type": "code",
   "execution_count": 105,
   "metadata": {
    "collapsed": true
   },
   "outputs": [],
   "source": [
    "all_games = soup.find_all(\"a\", class_=\"tab_item.app_impression_tracked\")"
   ]
  },
  {
   "cell_type": "code",
   "execution_count": 106,
   "metadata": {},
   "outputs": [
    {
     "data": {
      "text/plain": [
       "0"
      ]
     },
     "execution_count": 106,
     "metadata": {},
     "output_type": "execute_result"
    }
   ],
   "source": [
    "len(all_games)"
   ]
  },
  {
   "cell_type": "code",
   "execution_count": null,
   "metadata": {
    "collapsed": true
   },
   "outputs": [],
   "source": [
    "<a href=\"http://store.steampowered.com/app/613830/CHRONO_TRIGGER/?snr=1_tags_4__103\" class=\"tab_item   app_impression_tracked\" data-ds-appid=\"613830\" onmouseover=\"GameHover( this, event, 'global_hover', {\"type\":\"app\",\"id\":613830,\"params\":{\"bDisableHover\":false},\"public\":1,\"v6\":1} );\" onmouseout=\"HideGameHover( this, event, 'global_hover' )\">…</a>"
   ]
  }
 ],
 "metadata": {
  "kernelspec": {
   "display_name": "Python 3",
   "language": "python",
   "name": "python3"
  },
  "language_info": {
   "codemirror_mode": {
    "name": "ipython",
    "version": 3
   },
   "file_extension": ".py",
   "mimetype": "text/x-python",
   "name": "python",
   "nbconvert_exporter": "python",
   "pygments_lexer": "ipython3",
   "version": "3.6.3"
  }
 },
 "nbformat": 4,
 "nbformat_minor": 2
}
